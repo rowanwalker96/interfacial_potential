{
 "cells": [
  {
   "cell_type": "code",
   "execution_count": 1,
   "id": "ee23000a",
   "metadata": {},
   "outputs": [],
   "source": [
    "import MDAnalysis\n",
    "import numpy as np\n",
    "import matplotlib.pyplot as plt"
   ]
  },
  {
   "cell_type": "code",
   "execution_count": 13,
   "id": "76694da8",
   "metadata": {},
   "outputs": [],
   "source": [
    "u = MDAnalysis.Universe('md.tpr','md.trr')"
   ]
  },
  {
   "cell_type": "markdown",
   "id": "5c4c58a7",
   "metadata": {},
   "source": [
    "## Visualisation\n",
    "Visualise the trajectory using <code> nglview </code>"
   ]
  },
  {
   "cell_type": "code",
   "execution_count": 14,
   "id": "47655518",
   "metadata": {},
   "outputs": [],
   "source": [
    "import nglview as nv\n",
    "v = nv.show_mdanalysis(u)\n",
    "system = v.component_0\n",
    "system.clear()\n",
    "v.camera='orthographic'\n",
    "v.center()\n",
    "v.add_unitcell()\n",
    "v.parameters = {\"fogNear\": 20}\n",
    "\n",
    "SURF = u.select_atoms('resname WALL')\n",
    "system.add_spacefill(selection = SURF.atoms.indices)\n",
    "SOL=u.select_atoms('resname SOL')\n",
    "system.add_spacefill(selection = SOL.atoms.indices)"
   ]
  },
  {
   "cell_type": "code",
   "execution_count": 15,
   "id": "9c6c3e4a",
   "metadata": {},
   "outputs": [
    {
     "data": {
      "application/vnd.jupyter.widget-view+json": {
       "model_id": "3825a1e7aebc438c910e248321efbbfc",
       "version_major": 2,
       "version_minor": 0
      },
      "text/plain": [
       "NGLWidget(max_frame=25000)"
      ]
     },
     "metadata": {},
     "output_type": "display_data"
    }
   ],
   "source": [
    "v.display()"
   ]
  },
  {
   "cell_type": "markdown",
   "id": "300e9606",
   "metadata": {},
   "source": [
    "## Calculation of the interfacial potential"
   ]
  },
  {
   "cell_type": "code",
   "execution_count": 16,
   "id": "7930243a",
   "metadata": {},
   "outputs": [],
   "source": [
    "SOL=u.select_atoms('resname SOL')\n",
    "valdip = []; ozp = [];\n",
    "frames = len(u.trajectory)\n",
    "    \n",
    "for step in u.trajectory:\n",
    "    \n",
    "    # dipole moment calculation\n",
    "    lines=SOL.positions\n",
    "    \n",
    "    Ot0 = lines[::3]; H1t0 = lines[1::3]; H2t0 = lines[2::3]; \n",
    "    dipVector0 = (H1t0 - Ot0)/10*0.41 + (H2t0 - Ot0)/10*0.41 # spc water\n",
    "    unitdipVector0 = dipVector0 / np.linalg.norm(dipVector0, axis=1)[:, None]\n",
    "    \n",
    "    j = 0\n",
    "    while j < len(Ot0):\n",
    "        valdip.append(dipVector0[j][2]) # dipole moments\n",
    "        ozp.append(Ot0[j][2]) # O atom positions\n",
    "        j += 1"
   ]
  },
  {
   "cell_type": "code",
   "execution_count": null,
   "id": "62b9538e",
   "metadata": {},
   "outputs": [],
   "source": [
    "from scipy.stats import binned_statistic # This function allows the computation of the sum, mean, median, or other statistic of the values (or set of values) within each bin.\n",
    "dipoles, bin_edges, binnumber = binned_statistic(ozp, valdip, statistic='mean', bins=np.linspace(5,55,5000))\n",
    "bin_width = (bin_edges[1] - bin_edges[0]); bin_centers = bin_edges[1:] - bin_width/2; lxn=bin_centers/10"
   ]
  },
  {
   "cell_type": "code",
   "execution_count": 32,
   "id": "f0d07282",
   "metadata": {},
   "outputs": [
    {
     "data": {
      "text/plain": [
       "Text(0, 0.5, 'μ(z) (e nm)')"
      ]
     },
     "execution_count": 32,
     "metadata": {},
     "output_type": "execute_result"
    },
    {
     "data": {
      "image/png": "[encoded data removed]",
      "text/plain": [
       "<Figure size 432x288 with 1 Axes>"
      ]
     },
     "metadata": {
      "needs_background": "light"
     },
     "output_type": "display_data"
    }
   ],
   "source": [
    "plt.plot(lxn,dipoles,lw=0.8)\n",
    "plt.xlabel('z (nm)', fontsize=18)\n",
    "plt.ylabel('μ(z) (e nm)', fontsize=18)"
   ]
  },
  {
   "cell_type": "code",
   "execution_count": 18,
   "id": "ec691ee5",
   "metadata": {},
   "outputs": [],
   "source": [
    "bin_means2, bin_edges2, binnumber2 = binned_statistic(ozp, valdip, statistic='count', bins=bin_edges)\n",
    "binvolume = bin_width/10 * u.trajectory[0].dimensions[0] * u.trajectory[0].dimensions[1] / 100\n",
    "Pz = ((dipoles/binvolume)*(bin_means2/frames)) # dipole moment density"
   ]
  },
  {
   "cell_type": "code",
   "execution_count": 35,
   "id": "2e1dce26",
   "metadata": {},
   "outputs": [
    {
     "data": {
      "text/plain": [
       "1.2449083628503798e-05"
      ]
     },
     "execution_count": 35,
     "metadata": {},
     "output_type": "execute_result"
    }
   ],
   "source": [
    "pmidav = np.mean(Pz[2000:3000])\n",
    "Pzexcess=Pz#-pmidav #if studying a charged case, subtract the continuum baseline pmidav\n",
    "pmidav # polarisation in the bulk"
   ]
  },
  {
   "cell_type": "code",
   "execution_count": 39,
   "id": "53961b45",
   "metadata": {},
   "outputs": [
    {
     "data": {
      "image/png": "[encoded data removed]",
      "text/plain": [
       "<Figure size 432x288 with 1 Axes>"
      ]
     },
     "metadata": {
      "needs_background": "light"
     },
     "output_type": "display_data"
    }
   ],
   "source": [
    "import scipy.integrate as sci\n",
    "eoinv = 18.09512817972783 #1/epsilon0\n",
    "Pzright=Pzexcess[len(Pzexcess)//2:]\n",
    "lxnrev=lxn[::-1]; Pzexcessrev=Pzexcess[::-1]\n",
    "POTRIGHT=(sci.cumtrapz(Pzright,lxn[len(Pzexcess)//2:],initial=0)*eoinv)\n",
    "POTLEFT=(sci.cumtrapz(Pzexcessrev[len(Pzexcess)//2:],lxnrev[len(Pzexcess)//2:],initial=0)*eoinv)\n",
    "#plt.plot(lxnrev[len(potential)//2:],POTLEFT,lw=0.8)\n",
    "plt.plot(lxn[len(Pzexcess)//2:],POTRIGHT,lw=0.8)\n",
    "\n",
    "plt.axhline(0, color='black',linestyle='--')\n",
    "plt.xlabel('z (nm)', fontsize=18)\n",
    "plt.ylabel('φ(z) (V)', fontsize=18)\n",
    "plt.show()"
   ]
  },
  {
   "cell_type": "code",
   "execution_count": null,
   "id": "c9af3921",
   "metadata": {},
   "outputs": [],
   "source": []
  }
 ],
 "metadata": {
  "kernelspec": {
   "display_name": "Python 3 (ipykernel)",
   "language": "python",
   "name": "python3"
  },
  "language_info": {
   "codemirror_mode": {
    "name": "ipython",
    "version": 3
   },
   "file_extension": ".py",
   "mimetype": "text/x-python",
   "name": "python",
   "nbconvert_exporter": "python",
   "pygments_lexer": "ipython3",
   "version": "3.9.9"
  }
 },
 "nbformat": 4,
 "nbformat_minor": 5
}
